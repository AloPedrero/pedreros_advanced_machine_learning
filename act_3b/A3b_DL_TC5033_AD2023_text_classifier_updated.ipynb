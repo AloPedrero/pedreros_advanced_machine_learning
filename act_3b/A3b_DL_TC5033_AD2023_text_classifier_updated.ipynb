{
 "cells": [
  {
   "cell_type": "markdown",
   "id": "940c6dbc",
   "metadata": {
    "id": "940c6dbc"
   },
   "source": [
    "## TC 5033\n",
    "### Word Embeddings\n",
    "\n",
    "<br>\n",
    "\n",
    "#### Activity 3b: Text Classification using RNNs and AG_NEWS dataset in PyTorch\n",
    "<br>\n",
    "\n",
    "- Objective:\n",
    "    - Understand the basics of Recurrent Neural Networks (RNNs) and their application in text classification.\n",
    "    - Learn how to handle a real-world text dataset, AG_NEWS, in PyTorch.\n",
    "    - Gain hands-on experience in defining, training, and evaluating a text classification model in PyTorch.\n",
    "    \n",
    "<br>\n",
    "\n",
    "- Instructions:\n",
    "    - Data Preparation: Starter code will be provided that loads the AG_NEWS dataset and prepares it for training. Do not modify this part. However, you should be sure to understand it, and comment it, the use of markdown cells is suggested.\n",
    "\n",
    "    - Model Setup: A skeleton code for the RNN model class will be provided. Complete this class and use it to instantiate your model.\n",
    "\n",
    "    - Implementing Accuracy Function: Write a function that takes model predictions and ground truth labels as input and returns the model's accuracy.\n",
    "\n",
    "    - Training Function: Implement a function that performs training on the given model using the AG_NEWS dataset. Your model should achieve an accuracy of at least 80% to get full marks for this part.\n",
    "\n",
    "    - Text Sampling: Write a function that takes a sample text as input and classifies it using your trained model.\n",
    "\n",
    "    - Confusion Matrix: Implement a function to display the confusion matrix for your model on the test data.\n",
    "\n",
    "    - Submission: Submit your completed Jupyter Notebook. Make sure to include a markdown cell at the beginning of the notebook that lists the names of all team members. Teams should consist of 3 to 4 members.\n",
    "    \n",
    "<br>\n",
    "\n",
    "- Evaluation Criteria:\n",
    "\n",
    "    - Correct setup of all the required libraries and modules (10%)\n",
    "    - Code Quality (30%): Your code should be well-organized, clearly commented, and easy to follow. Use also markdown cells for clarity. Comments should be given for all the provided code, this will help you understand its functionality.\n",
    "    \n",
    "   - Functionality (60%):\n",
    "        - All the functions should execute without errors and provide the expected outputs.\n",
    "        - RNN model class (20%)\n",
    "        - Accuracy fucntion (10%)\n",
    "        - Training function (10%)\n",
    "        - Sampling function (10%)\n",
    "        - Confucion matrix (10%)\n",
    "\n",
    "        - The model should achieve at least an 80% accuracy on the AG_NEWS test set for full marks in this criterion.\n"
   ]
  },
  {
   "cell_type": "markdown",
   "id": "4de318da",
   "metadata": {
    "id": "4de318da"
   },
   "source": [
    "Dataset\n",
    "\n",
    "https://pytorch.org/text/stable/datasets.html#text-classification\n",
    "\n",
    "https://paperswithcode.com/dataset/ag-news\n"
   ]
  },
  {
   "cell_type": "markdown",
   "id": "4a9801f9",
   "metadata": {
    "id": "4a9801f9"
   },
   "source": [
    "#### Install libraries (if needed)"
   ]
  },
  {
   "cell_type": "markdown",
   "id": "9IUa6uRqQtGu",
   "metadata": {
    "id": "9IUa6uRqQtGu"
   },
   "source": [
    "## Import libraries"
   ]
  },
  {
   "cell_type": "code",
   "execution_count": 4,
   "id": "878b524f",
   "metadata": {
    "executionInfo": {
     "elapsed": 7208,
     "status": "ok",
     "timestamp": 1730927094550,
     "user": {
      "displayName": "José Antonio Cantoral Ceballos",
      "userId": "04961139803161381162"
     },
     "user_tz": 360
    },
    "id": "878b524f"
   },
   "outputs": [
    {
     "name": "stderr",
     "output_type": "stream",
     "text": [
      "/Users/cesarivp/Documents/GitHub/pedreros_advanced_machine_learning/.venv/lib/python3.9/site-packages/urllib3/__init__.py:35: NotOpenSSLWarning: urllib3 v2 only supports OpenSSL 1.1.1+, currently the 'ssl' module is compiled with 'LibreSSL 2.8.3'. See: https://github.com/urllib3/urllib3/issues/3020\n",
      "  warnings.warn(\n"
     ]
    }
   ],
   "source": [
    "import numpy\n",
    "\n",
    "import torch\n",
    "from torchtext.datasets import AG_NEWS\n",
    "\n",
    "from torch.utils.data import DataLoader\n",
    "from torch.utils.data.dataset import random_split\n",
    "\n",
    "from torchtext.data.utils import get_tokenizer\n",
    "from torchtext.vocab import build_vocab_from_iterator\n",
    "from torchtext.data.functional import to_map_style_dataset\n",
    "\n",
    "from torch import nn\n",
    "from torch.nn import functional as F\n",
    "\n",
    "import matplotlib.pyplot as plt\n",
    "import scikitplot as skplt\n",
    "import gc"
   ]
  },
  {
   "cell_type": "code",
   "execution_count": 5,
   "id": "3bab55f3",
   "metadata": {
    "colab": {
     "base_uri": "https://localhost:8080/"
    },
    "executionInfo": {
     "elapsed": 159,
     "status": "ok",
     "timestamp": 1730927097048,
     "user": {
      "displayName": "José Antonio Cantoral Ceballos",
      "userId": "04961139803161381162"
     },
     "user_tz": 360
    },
    "id": "3bab55f3",
    "outputId": "ceeb9cf1-327b-4c48-deda-c550651803ec"
   },
   "outputs": [
    {
     "name": "stdout",
     "output_type": "stream",
     "text": [
      "cpu\n"
     ]
    }
   ],
   "source": [
    "# Use GPU if available\n",
    "device = torch.device(\"cuda\" if torch.cuda.is_available() else \"cpu\")\n",
    "print(device)"
   ]
  },
  {
   "cell_type": "markdown",
   "id": "3d38956d",
   "metadata": {
    "id": "3d38956d"
   },
   "source": [
    "### Get the train and the test datasets and dataloaders"
   ]
  },
  {
   "cell_type": "markdown",
   "id": "e9c6b784",
   "metadata": {
    "id": "e9c6b784"
   },
   "source": [
    "Classes:\n",
    "\n",
    "* 1 - World\n",
    "\n",
    "* 2 - Sports\n",
    "\n",
    "* 3 - Business\n",
    "\n",
    "* 4 - Sci/Tech\n",
    "\n",
    "We will convert them to:\n",
    "\n",
    "* 0 - World\n",
    "\n",
    "* 1 - Sports\n",
    "\n",
    "* 2 - Business\n",
    "\n",
    "* 3 - Sci/Tech"
   ]
  },
  {
   "cell_type": "code",
   "execution_count": 6,
   "id": "49fbed19",
   "metadata": {
    "executionInfo": {
     "elapsed": 5438,
     "status": "ok",
     "timestamp": 1730927105127,
     "user": {
      "displayName": "José Antonio Cantoral Ceballos",
      "userId": "04961139803161381162"
     },
     "user_tz": 360
    },
    "id": "49fbed19"
   },
   "outputs": [],
   "source": [
    "train_dataset, test_dataset = AG_NEWS()\n",
    "train_dataset, test_dataset = to_map_style_dataset(train_dataset), to_map_style_dataset(test_dataset)"
   ]
  },
  {
   "cell_type": "code",
   "execution_count": 7,
   "id": "9c372eb9",
   "metadata": {
    "executionInfo": {
     "elapsed": 226,
     "status": "ok",
     "timestamp": 1730927106939,
     "user": {
      "displayName": "José Antonio Cantoral Ceballos",
      "userId": "04961139803161381162"
     },
     "user_tz": 360
    },
    "id": "9c372eb9"
   },
   "outputs": [],
   "source": [
    "tokeniser = get_tokenizer('basic_english')"
   ]
  },
  {
   "cell_type": "code",
   "execution_count": 8,
   "id": "1641b28a",
   "metadata": {},
   "outputs": [],
   "source": [
    "def yield_tokens(data):\n",
    "    \"\"\"\n",
    "    Generator function that yields tokenized text from an iterable dataset.\n",
    "\n",
    "    Args:\n",
    "        data (iterable): An iterable containing tuples where the second element is a text string.\n",
    "\n",
    "    Yields:\n",
    "        list: A list of tokens produced by the `tokeniser` function.\n",
    "\n",
    "    Example:\n",
    "        data = [(1, \"Hello world\"), (2, \"Machine learning is fun\")]\n",
    "        tokens = list(yield_tokens(data))\n",
    "    \"\"\"\n",
    "    for _, text in data:\n",
    "        yield tokeniser(text)"
   ]
  },
  {
   "cell_type": "code",
   "execution_count": 9,
   "id": "5ffee483",
   "metadata": {},
   "outputs": [],
   "source": [
    "UNKNOWN_TOKEN = \"<unk>\""
   ]
  },
  {
   "cell_type": "code",
   "execution_count": 10,
   "id": "794d0375",
   "metadata": {
    "executionInfo": {
     "elapsed": 6165,
     "status": "ok",
     "timestamp": 1730927114676,
     "user": {
      "displayName": "José Antonio Cantoral Ceballos",
      "userId": "04961139803161381162"
     },
     "user_tz": 360
    },
    "id": "794d0375"
   },
   "outputs": [],
   "source": [
    "vocab = build_vocab_from_iterator(yield_tokens(train_dataset), specials=[UNKNOWN_TOKEN])\n",
    "vocab.set_default_index(vocab[UNKNOWN_TOKEN])"
   ]
  },
  {
   "cell_type": "code",
   "execution_count": 11,
   "id": "b48268d4",
   "metadata": {
    "colab": {
     "base_uri": "https://localhost:8080/"
    },
    "executionInfo": {
     "elapsed": 196,
     "status": "ok",
     "timestamp": 1730927117331,
     "user": {
      "displayName": "José Antonio Cantoral Ceballos",
      "userId": "04961139803161381162"
     },
     "user_tz": 360
    },
    "id": "b48268d4",
    "outputId": "f9c839a1-8598-41e9-c8a0-5e49ce5b5a9c"
   },
   "outputs": [
    {
     "name": "stdout",
     "output_type": "stream",
     "text": [
      "['welcome', 'to', 'tc5033'] [3314, 4, 0]\n"
     ]
    }
   ],
   "source": [
    "#test tokens\n",
    "tokens = tokeniser('Welcome to TC5033')\n",
    "print(tokens, vocab(tokens))"
   ]
  },
  {
   "cell_type": "code",
   "execution_count": 12,
   "id": "c8c8f6a6",
   "metadata": {
    "executionInfo": {
     "elapsed": 200,
     "status": "ok",
     "timestamp": 1730927118687,
     "user": {
      "displayName": "José Antonio Cantoral Ceballos",
      "userId": "04961139803161381162"
     },
     "user_tz": 360
    },
    "id": "c8c8f6a6"
   },
   "outputs": [],
   "source": [
    "NUM_TRAIN = int(len(train_dataset)*0.9)\n",
    "NUM_VAL = len(train_dataset) - NUM_TRAIN"
   ]
  },
  {
   "cell_type": "code",
   "execution_count": 13,
   "id": "8290895e",
   "metadata": {
    "executionInfo": {
     "elapsed": 142,
     "status": "ok",
     "timestamp": 1730927121582,
     "user": {
      "displayName": "José Antonio Cantoral Ceballos",
      "userId": "04961139803161381162"
     },
     "user_tz": 360
    },
    "id": "8290895e"
   },
   "outputs": [],
   "source": [
    "train_dataset, val_dataset = random_split(train_dataset, [NUM_TRAIN, NUM_VAL])"
   ]
  },
  {
   "cell_type": "code",
   "execution_count": 14,
   "id": "cbc75b54",
   "metadata": {
    "colab": {
     "base_uri": "https://localhost:8080/"
    },
    "executionInfo": {
     "elapsed": 161,
     "status": "ok",
     "timestamp": 1730927125276,
     "user": {
      "displayName": "José Antonio Cantoral Ceballos",
      "userId": "04961139803161381162"
     },
     "user_tz": 360
    },
    "id": "cbc75b54",
    "outputId": "471ffecd-8d50-4c0b-8ad8-eab70f80c40d"
   },
   "outputs": [
    {
     "name": "stdout",
     "output_type": "stream",
     "text": [
      "108000 12000 7600\n"
     ]
    }
   ],
   "source": [
    "print(len(train_dataset), len(val_dataset), len(test_dataset))"
   ]
  },
  {
   "cell_type": "code",
   "execution_count": 15,
   "id": "5eb459c7",
   "metadata": {
    "executionInfo": {
     "elapsed": 151,
     "status": "ok",
     "timestamp": 1730927128564,
     "user": {
      "displayName": "José Antonio Cantoral Ceballos",
      "userId": "04961139803161381162"
     },
     "user_tz": 360
    },
    "id": "5eb459c7"
   },
   "outputs": [],
   "source": [
    "labels =  [\"World\", \"Sports\", \"Business\", \"Sci/Tech\"]\n",
    "max_tokens = 50\n",
    "BATCH_SIZE = 256"
   ]
  },
  {
   "cell_type": "code",
   "execution_count": 16,
   "id": "ffdbf077",
   "metadata": {
    "executionInfo": {
     "elapsed": 160,
     "status": "ok",
     "timestamp": 1730927127379,
     "user": {
      "displayName": "José Antonio Cantoral Ceballos",
      "userId": "04961139803161381162"
     },
     "user_tz": 360
    },
    "id": "ffdbf077"
   },
   "outputs": [],
   "source": [
    "def collate_batch(batch):\n",
    "    \"\"\"\n",
    "    Processes a batch of data by tokenizing text, converting tokens to indices using a vocabulary,\n",
    "    and padding/truncating sequences to a fixed length.\n",
    "\n",
    "    Args:\n",
    "        batch (list of tuples): A list of (label, text) pairs.\n",
    "\n",
    "    Returns:\n",
    "        tuple:\n",
    "            - torch.Tensor: A tensor of tokenized and padded/truncated text sequences (int32).\n",
    "            - torch.Tensor: A tensor of labels (int32), adjusted to be zero-indexed.\n",
    "\n",
    "    Example:\n",
    "        batch = [(1, \"Hello world\"), (2, \"Deep learning is cool\")]\n",
    "        x, y = collate_batch(batch)\n",
    "    \"\"\"\n",
    "    y, x = list(zip(*batch))\n",
    "\n",
    "    x = [vocab(tokeniser(text)) for text in x]\n",
    "    x = [t + ([0]*(max_tokens - len(t))) if len(t) < max_tokens else t[:max_tokens] for t in x]\n",
    "\n",
    "    return torch.tensor(x, dtype=torch.int32), torch.tensor(y, dtype=torch.int32) - 1"
   ]
  },
  {
   "cell_type": "code",
   "execution_count": 17,
   "id": "0a55e6ee",
   "metadata": {
    "executionInfo": {
     "elapsed": 178,
     "status": "ok",
     "timestamp": 1730927129681,
     "user": {
      "displayName": "José Antonio Cantoral Ceballos",
      "userId": "04961139803161381162"
     },
     "user_tz": 360
    },
    "id": "0a55e6ee"
   },
   "outputs": [],
   "source": [
    "train_loader = DataLoader(train_dataset, batch_size=BATCH_SIZE, collate_fn=collate_batch, shuffle = True)\n",
    "val_loader = DataLoader(val_dataset, batch_size=BATCH_SIZE, collate_fn=collate_batch, shuffle = True)\n",
    "test_loader = DataLoader(test_dataset, batch_size=BATCH_SIZE, collate_fn=collate_batch, shuffle = True)"
   ]
  },
  {
   "cell_type": "markdown",
   "id": "47b98898",
   "metadata": {
    "id": "47b98898"
   },
   "source": [
    "### Let us build our RNN model"
   ]
  },
  {
   "cell_type": "code",
   "execution_count": 18,
   "id": "50f20793",
   "metadata": {
    "executionInfo": {
     "elapsed": 193,
     "status": "ok",
     "timestamp": 1730927132530,
     "user": {
      "displayName": "José Antonio Cantoral Ceballos",
      "userId": "04961139803161381162"
     },
     "user_tz": 360
    },
    "id": "50f20793"
   },
   "outputs": [],
   "source": [
    "EMBEDDING_SIZE = 300\n",
    "NEURONS = 128\n",
    "LAYERS = 2\n",
    "NUM_CLASSES = 4"
   ]
  },
  {
   "cell_type": "markdown",
   "id": "12080fad",
   "metadata": {},
   "source": [
    "As for the explanation of the RNN vs GRU vS LSTM, RNNs are simple networks for sequential data but struggle with long-term dependencies. GRUs improve on RNNs by using gates to control information flow, making them faster to train. LSTMs are more complex, with additional gates to better capture long-term dependencies, usually outperforming both RNNs and GRUs on more complex tasks.\n",
    "\n",
    "![img](https://miro.medium.com/v2/resize:fit:850/1*AeKfV2uAPeMg9j8HhQZk2w.png)\n",
    "\n",
    "For this exercise, we'll build a GRU model."
   ]
  },
  {
   "cell_type": "code",
   "execution_count": 19,
   "id": "0f7f5621",
   "metadata": {
    "id": "0f7f5621",
    "outputId": "673b7ec3-7261-4848-fd8f-e1116533a8ba"
   },
   "outputs": [],
   "source": [
    "class RecurrentModel(nn.Module):\n",
    "    \"\"\"\n",
    "    A recurrent neural network (RNN) model for text classification.\n",
    "    You can choose between RNN, GRU, or LSTM for the recurrent layer.\n",
    "\n",
    "    Args:\n",
    "        embed_size (int): Dimension of word embeddings.\n",
    "        hidden (int): Number of hidden units in the recurrent layer.\n",
    "        layers (int): Number of recurrent layers.\n",
    "        num_classes (int): Number of output classes.\n",
    "        rnn_type (str): The type of recurrent layer ('rnn', 'gru', 'lstm').\n",
    "\n",
    "    Attributes:\n",
    "        embedding_layer (nn.Embedding): Embedding layer mapping token indices to dense vectors.\n",
    "        rnn (nn.Module): Recurrent layer (RNN, GRU, or LSTM).\n",
    "        fc (nn.Linear): Fully connected layer for classification.\n",
    "    \"\"\"\n",
    "    def __init__(self, embed_size, hidden, layers, num_classes, rnn_type='rnn'):\n",
    "        super().__init__()\n",
    "        \n",
    "        self.embedding_layer = nn.Embedding(num_embeddings=len(vocab),\n",
    "                                            embedding_dim=embed_size)\n",
    "\n",
    "        if rnn_type == 'rnn':\n",
    "            self.rnn = nn.RNN(input_size=embed_size,\n",
    "                              hidden_size=hidden,\n",
    "                              num_layers=layers,\n",
    "                              batch_first=True,\n",
    "                              dropout=0.5)\n",
    "        elif rnn_type == 'gru':\n",
    "            self.rnn = nn.GRU(input_size=embed_size,\n",
    "                              hidden_size=hidden,\n",
    "                              num_layers=layers,\n",
    "                              batch_first=True,\n",
    "                              dropout=0.5)\n",
    "        elif rnn_type == 'lstm':\n",
    "            self.rnn = nn.LSTM(input_size=embed_size,\n",
    "                               hidden_size=hidden,\n",
    "                               num_layers=layers,\n",
    "                               batch_first=True,\n",
    "                               dropout=0.5)\n",
    "        else:\n",
    "            raise ValueError(f\"Invalid rnn_type '{rnn_type}'. Choose from 'rnn', 'gru', or 'lstm'.\")\n",
    "\n",
    "        self.fc = nn.Linear(hidden, num_classes)\n",
    "\n",
    "    def forward(self, x):\n",
    "        embedded = self.embedding_layer(x)\n",
    "\n",
    "        if isinstance(self.rnn, nn.LSTM):\n",
    "            rnn_out, (hn, cn) = self.rnn(embedded)\n",
    "            final_hidden_state = hn[-1, :, :]\n",
    "        else:\n",
    "            rnn_out, _ = self.rnn(embedded)\n",
    "            final_hidden_state = rnn_out[:, -1, :]\n",
    "\n",
    "        out = self.fc(final_hidden_state)\n",
    "        return out"
   ]
  },
  {
   "cell_type": "code",
   "execution_count": 20,
   "id": "2a42613f",
   "metadata": {
    "code_folding": [],
    "id": "2a42613f"
   },
   "outputs": [],
   "source": [
    "def accuracy(model, loader):\n",
    "    \"\"\"\n",
    "    Computes the accuracy of a given model on a dataset.\n",
    "\n",
    "    Args:\n",
    "        model (nn.Module): The trained model to evaluate.\n",
    "        loader (DataLoader): DataLoader providing batches of (text, labels).\n",
    "\n",
    "    Returns:\n",
    "        float: The accuracy of the model, calculated as (correct predictions / total samples).\n",
    "\n",
    "    Process:\n",
    "        - The model is set to evaluation mode.\n",
    "        - Iterates through the dataset without computing gradients.\n",
    "        - Passes input text through the model to obtain predictions.\n",
    "        - Compares predicted labels to actual labels and counts correct predictions.\n",
    "        - Computes the overall accuracy.\n",
    "\n",
    "    Example:\n",
    "        acc = accuracy(trained_model, test_loader)\n",
    "        print(f\"Test Accuracy: {acc:.2%}\")\n",
    "    \"\"\"\n",
    "    model.eval()\n",
    "    correct, total = 0, 0\n",
    "    with torch.no_grad():\n",
    "        for text, labels in loader:\n",
    "            text, labels = text.to(device), labels.to(device)\n",
    "            outputs = model(text)\n",
    "            _, predicted = torch.max(outputs, 1)\n",
    "            total += labels.size(0)\n",
    "            correct += (predicted == labels).sum().item()\n",
    "    return correct / total"
   ]
  },
  {
   "cell_type": "code",
   "execution_count": null,
   "id": "5e843e1f",
   "metadata": {
    "code_folding": [],
    "id": "5e843e1f"
   },
   "outputs": [],
   "source": [
    "def train(model, optimiser, epochs=100):\n",
    "    \"\"\"\n",
    "    Trains a neural network model using cross-entropy loss.\n",
    "\n",
    "    Args:\n",
    "        model (nn.Module): The model to be trained.\n",
    "        optimiser (torch.optim.Optimizer): The optimizer used for updating model weights.\n",
    "        epochs (int, optional): Number of training epochs (default: 100).\n",
    "\n",
    "    Process:\n",
    "        - Sets the model to training mode.\n",
    "        - Iterates over the dataset for the specified number of epochs.\n",
    "        - Computes the cross-entropy loss for each batch.\n",
    "        - Performs backpropagation and updates model weights.\n",
    "        - Prints the average loss per epoch.\n",
    "\n",
    "    Example:\n",
    "        train(model, optimiser, epochs=50)\n",
    "\n",
    "    Notes:\n",
    "        - Assumes `train_loader` is a DataLoader providing (text, labels) batches.\n",
    "        - Assumes `device` is defined (e.g., `\"cuda\"` or `\"cpu\"`).\n",
    "    \"\"\"\n",
    "    model.train()\n",
    "    criterion = nn.CrossEntropyLoss()\n",
    "\n",
    "    for epoch in range(epochs):\n",
    "        total_loss = 0\n",
    "        for text, labels in train_loader:\n",
    "            text, labels = text.to(device), labels.to(device)\n",
    "\n",
    "            labels = labels.long()\n",
    "\n",
    "            optimiser.zero_grad()\n",
    "\n",
    "            outputs = model(text)\n",
    "            loss = criterion(outputs, labels)\n",
    "\n",
    "            loss.backward()\n",
    "            optimiser.step()\n",
    "\n",
    "            total_loss += loss.item()\n",
    "\n",
    "        average_loss = total_loss / len(train_loader)\n",
    "        print(f\"Epoch {epoch+1}/{epochs}, Average loss: {average_loss:.4f}\")\n"
   ]
  },
  {
   "cell_type": "code",
   "execution_count": 22,
   "id": "ab43eca6",
   "metadata": {},
   "outputs": [],
   "source": [
    "def train_model(epochs, model, optimiser):\n",
    "  train(model, optimiser=optimiser,  epochs=epochs)\n",
    "  print(f'Accuracy: {accuracy(model, test_loader):.4f}')"
   ]
  },
  {
   "cell_type": "markdown",
   "id": "1111843e",
   "metadata": {},
   "source": [
    "### RNN model:"
   ]
  },
  {
   "cell_type": "code",
   "execution_count": 43,
   "id": "87775b29",
   "metadata": {
    "id": "87775b29"
   },
   "outputs": [],
   "source": [
    "lr = 0.003\n",
    "\n",
    "rnn_model = RecurrentModel(EMBEDDING_SIZE, NEURONS, LAYERS, NUM_CLASSES, rnn_type='rnn')"
   ]
  },
  {
   "cell_type": "code",
   "execution_count": 44,
   "id": "ad287ed6",
   "metadata": {},
   "outputs": [
    {
     "name": "stdout",
     "output_type": "stream",
     "text": [
      "Epoch 1/10, Avereage loss: 1.3290\n",
      "Epoch 2/10, Avereage loss: 1.3394\n",
      "Epoch 3/10, Avereage loss: 1.2972\n",
      "Epoch 4/10, Avereage loss: 1.2104\n",
      "Epoch 5/10, Avereage loss: 1.2523\n",
      "Epoch 6/10, Avereage loss: 1.2787\n",
      "Epoch 7/10, Avereage loss: 1.2656\n",
      "Epoch 8/10, Avereage loss: 1.3374\n",
      "Epoch 9/10, Avereage loss: 1.2947\n",
      "Epoch 10/10, Avereage loss: 1.2221\n",
      "Accuracy: 0.3107\n"
     ]
    }
   ],
   "source": [
    "train_model(10, rnn_model, torch.optim.Adam(rnn_model.parameters(), lr=lr))"
   ]
  },
  {
   "cell_type": "markdown",
   "id": "3c5187c8",
   "metadata": {},
   "source": [
    "### GRU model:"
   ]
  },
  {
   "cell_type": "code",
   "execution_count": 27,
   "id": "8baca888",
   "metadata": {},
   "outputs": [],
   "source": [
    "lr = 0.001\n",
    "\n",
    "gru_model = RecurrentModel(EMBEDDING_SIZE, NEURONS, LAYERS, NUM_CLASSES, rnn_type='gru')"
   ]
  },
  {
   "cell_type": "code",
   "execution_count": 28,
   "id": "ad0a52d1",
   "metadata": {},
   "outputs": [
    {
     "name": "stdout",
     "output_type": "stream",
     "text": [
      "Epoch 1/10, Avereage loss: 0.6072\n",
      "Epoch 2/10, Avereage loss: 0.2441\n",
      "Epoch 3/10, Avereage loss: 0.1698\n",
      "Epoch 4/10, Avereage loss: 0.1199\n",
      "Epoch 5/10, Avereage loss: 0.0849\n",
      "Epoch 6/10, Avereage loss: 0.0600\n",
      "Epoch 7/10, Avereage loss: 0.0449\n",
      "Epoch 8/10, Avereage loss: 0.0366\n",
      "Epoch 9/10, Avereage loss: 0.0270\n",
      "Epoch 10/10, Avereage loss: 0.0228\n",
      "Accuracy: 0.9066\n"
     ]
    }
   ],
   "source": [
    "train_model(10, gru_model, torch.optim.Adam(gru_model.parameters(), lr=lr))"
   ]
  },
  {
   "cell_type": "markdown",
   "metadata": {},
   "source": [
    "### LSTM model:"
   ]
  },
  {
   "cell_type": "code",
   "execution_count": null,
   "metadata": {},
   "outputs": [],
   "source": [
    "lr = 0.001\n",
    "\n",
    "lstm_model = RecurrentModel(EMBEDDING_SIZE, NEURONS, LAYERS, NUM_CLASSES, rnn_type='lstm')"
   ]
  },
  {
   "cell_type": "code",
   "execution_count": 36,
   "metadata": {},
   "outputs": [
    {
     "name": "stdout",
     "output_type": "stream",
     "text": [
      "Epoch 1/10, Avereage loss: 0.7479\n",
      "Epoch 2/10, Avereage loss: 0.3026\n",
      "Epoch 3/10, Avereage loss: 0.2146\n",
      "Epoch 4/10, Avereage loss: 0.1617\n",
      "Epoch 5/10, Avereage loss: 0.1241\n",
      "Epoch 6/10, Avereage loss: 0.0947\n",
      "Epoch 7/10, Avereage loss: 0.0736\n",
      "Epoch 8/10, Avereage loss: 0.0614\n",
      "Epoch 9/10, Avereage loss: 0.0478\n",
      "Epoch 10/10, Avereage loss: 0.0399\n",
      "Accuracy: 0.9029\n"
     ]
    }
   ],
   "source": [
    "train_model(10, lstm_model, torch.optim.Adam(lstm_model.parameters(), lr=lr))"
   ]
  },
  {
   "cell_type": "markdown",
   "id": "2ec19584",
   "metadata": {},
   "source": [
    "## Sampling & confusion matrix"
   ]
  },
  {
   "cell_type": "code",
   "execution_count": 37,
   "id": "6f25dd03",
   "metadata": {},
   "outputs": [],
   "source": [
    "NUM_SAMPLES = 5"
   ]
  },
  {
   "cell_type": "code",
   "execution_count": 38,
   "id": "ed30693d",
   "metadata": {
    "id": "ed30693d"
   },
   "outputs": [],
   "source": [
    "def sample_text(model, loader):\n",
    "    \"\"\"\n",
    "    Generates sample predictions from a trained model on a batch of text.\n",
    "\n",
    "    Args:\n",
    "        model (nn.Module): The trained model for text classification.\n",
    "        loader (DataLoader): DataLoader providing batches of (text, labels).\n",
    "\n",
    "    Process:\n",
    "        - Sets the model to evaluation mode.\n",
    "        - Takes a batch of text data from the loader.\n",
    "        - Passes the text through the model to generate predictions.\n",
    "        - Decodes token indices back to words using the vocabulary.\n",
    "        - Collects a fixed number of samples and prints the results.\n",
    "\n",
    "    Returns:\n",
    "        None (prints sample text, actual labels, and predicted labels).\n",
    "\n",
    "    Example:\n",
    "        sample_text(trained_model, test_loader)\n",
    "\n",
    "    Notes:\n",
    "        - Assumes `NUM_SAMPLES` is defined, determining how many samples to display.\n",
    "        - Assumes `device` is set (e.g., `\"cuda\"` or `\"cpu\"`).\n",
    "        - Assumes `vocab.get_itos()` provides a mapping from token indices to words.\n",
    "    \"\"\"\n",
    "    model.eval()\n",
    "    samples = []\n",
    "\n",
    "    with torch.no_grad():\n",
    "        for text, labels in loader:\n",
    "            text, labels = text.to(device), labels.to(device)\n",
    "            outputs = model(text)\n",
    "            _, predicted = torch.max(outputs, 1)\n",
    "            \n",
    "            for i in range(NUM_SAMPLES):\n",
    "                sample_text = \" \".join([vocab.get_itos()[idx] for idx in text[i].tolist() if idx != 0])\n",
    "                samples.append((sample_text, labels[i].item(), predicted[i].item()))\n",
    "            break\n",
    "    \n",
    "    print(\"\\nPredictions:\")\n",
    "    for text, actual, pred in samples:\n",
    "        print(f\"Text: {text}\\nActual: {labels[actual]}\\nPredicted: {labels[pred]}\\n\\n\")"
   ]
  },
  {
   "cell_type": "code",
   "execution_count": 39,
   "id": "bb38e093",
   "metadata": {
    "id": "bb38e093"
   },
   "outputs": [],
   "source": [
    "def plot_confusion_matrix(model_input, test_loader_input):\n",
    "    \"\"\"\n",
    "    Plots a normalized confusion matrix for a given model and test data loader.\n",
    "\n",
    "    Args:\n",
    "        model_input (nn.Module): The trained model to evaluate.\n",
    "        test_loader_input (DataLoader): DataLoader providing test data batches.\n",
    "\n",
    "    Process:\n",
    "        - Sets the model to evaluation mode.\n",
    "        - Iterates over the test dataset, collecting true and predicted labels.\n",
    "        - Uses scikit-plot to generate a normalized confusion matrix.\n",
    "        - Displays the confusion matrix and releases unused memory.\n",
    "\n",
    "    Notes:\n",
    "        - Assumes `device` is defined (e.g., `\"cuda\"` or `\"cpu\"`).\n",
    "        - Assumes the classification problem has 4 classes (`labels=[0, 1, 2, 3]`).\n",
    "        - Modify the `labels` parameter if the number of classes is different.\n",
    "\n",
    "    Example:\n",
    "        plot_confusion_matrix(trained_model, test_loader)\n",
    "    \"\"\"\n",
    "    model_input.eval()\n",
    "    y_true = []\n",
    "    y_pred = []\n",
    "\n",
    "    with torch.no_grad():\n",
    "        for text, labels in test_loader_input:\n",
    "            text, labels = text.to(device), labels.to(device)\n",
    "            outputs = model_input(text)\n",
    "            _, predicted = torch.max(outputs, 1)\n",
    "            y_true.extend(labels.cpu().numpy())\n",
    "            y_pred.extend(predicted.cpu().numpy())\n",
    "\n",
    "    skplt.metrics.plot_confusion_matrix(y_true, y_pred, labels=[0, 1, 2, 3], \n",
    "                                        normalize=True, title=\"Normalized Confusion Matrix\",\n",
    "                                        figsize=(8, 6))\n",
    "    plt.show()\n",
    "    gc.collect()   "
   ]
  },
  {
   "cell_type": "markdown",
   "id": "d0e4fa4b",
   "metadata": {},
   "source": [
    "### RNN model:"
   ]
  },
  {
   "cell_type": "code",
   "execution_count": 40,
   "id": "d97e74aa",
   "metadata": {},
   "outputs": [
    {
     "name": "stdout",
     "output_type": "stream",
     "text": [
      "\n",
      "Predictions:\n",
      "Text: thailand shows no easy war against wildlife crime ( reuters ) reuters - with an ak-47 assault rifle slung shoulder , roamed one of thailand ' s parks for more than a decade .\n",
      "Actual: 0\n",
      "Predicted: 3\n",
      "\n",
      "\n",
      "Text: the great vegetarian scam ive written before about my struggle to remain a vegetarian on tuesday - when i abjure meat for religious reasons travelling .\n",
      "Actual: 0\n",
      "Predicted: 3\n",
      "\n",
      "\n",
      "Text: has your broadband had its fiber ? falling costs , new technology , and competition , with a nudge from regulatory changes , are bringing fiber closer to homes in the us just a few years after the idea seemed all but written off .\n",
      "Actual: 0\n",
      "Predicted: 3\n",
      "\n",
      "\n",
      "Text: wreckage of navy helicopter found the wreckage of a royal navy helicopter , which disappeared with four crew members on board , has been found off the coast of cornwall , the ministry of defence says .\n",
      "Actual: 3\n",
      "Predicted: 3\n",
      "\n",
      "\n",
      "Text: imf sees rising oil prices having little impact on global growth tokyo rising oil prices are unlikely to deal a major blow to global economic growth although the trend may seem quot uncomfortable , quot a researcher with the international monetary fund says .\n",
      "Actual: 3\n",
      "Predicted: 3\n",
      "\n",
      "\n"
     ]
    },
    {
     "data": {
      "image/png": "[encoded data removed]",
      "text/plain": [
       "<Figure size 800x600 with 2 Axes>"
      ]
     },
     "metadata": {},
     "output_type": "display_data"
    }
   ],
   "source": [
    "sample_text(rnn_model, test_loader)\n",
    "plot_confusion_matrix(rnn_model, test_loader)"
   ]
  },
  {
   "cell_type": "markdown",
   "id": "bd9969d8",
   "metadata": {},
   "source": [
    "### GRU model:"
   ]
  },
  {
   "cell_type": "code",
   "execution_count": 41,
   "id": "bfdcfaec",
   "metadata": {},
   "outputs": [
    {
     "name": "stdout",
     "output_type": "stream",
     "text": [
      "\n",
      "Predictions:\n",
      "Text: melrose comes up short melrose entered its thanksgiving day matchup with wakefield as an undefeated powerhouse bound for the postseason . but wakefield has tripped up the red raiders in recent years -- and yesterday was no exception .\n",
      "Actual: 3\n",
      "Predicted: 3\n",
      "\n",
      "\n",
      "Text: fcc ok ' s company deal ( thedeal . com ) thedeal . com - arch wireless inc . can complete its #36 367 million acquisition of holdings inc .\n",
      "Actual: 0\n",
      "Predicted: 0\n",
      "\n",
      "\n",
      "Text: dimon solidifies control at nation #39 s second-largest bank new york ( cbs . mw ) -- dina dublon is resigning as chief financial officer after 23 years at jp morgan chase in a shakeup that further solidifies jamie dimon #39 s control at the nation #39 s second-biggest bank\n",
      "Actual: 2\n",
      "Predicted: 2\n",
      "\n",
      "\n",
      "Text: putin doubts date of the elections , allawi confirms it will be &lt b&gt . . . &lt /b&gt the russian president vladimir putin has expressed his doubt that the iraqi elections will be held at their due time . putin said during his meeting with the interim iraqi prime\n",
      "Actual: 1\n",
      "Predicted: 1\n",
      "\n",
      "\n",
      "Text: going private the promise and danger of space travel a flurry of space tourism milestones and announcements in recent days signals that human spaceflight is shifting from governments to the private sector , space experts say .\n",
      "Actual: 0\n",
      "Predicted: 0\n",
      "\n",
      "\n"
     ]
    },
    {
     "data": {
      "image/png": "[encoded data removed]",
      "text/plain": [
       "<Figure size 800x600 with 2 Axes>"
      ]
     },
     "metadata": {},
     "output_type": "display_data"
    }
   ],
   "source": [
    "sample_text(gru_model, test_loader)\n",
    "plot_confusion_matrix(gru_model, test_loader)"
   ]
  },
  {
   "cell_type": "markdown",
   "id": "8d43a9e5",
   "metadata": {},
   "source": [
    "### LSTM model:"
   ]
  },
  {
   "cell_type": "code",
   "execution_count": 42,
   "id": "122e64a5",
   "metadata": {},
   "outputs": [
    {
     "name": "stdout",
     "output_type": "stream",
     "text": [
      "\n",
      "Predictions:\n",
      "Text: iranian bill backs nuclear drive has passed a bill obliging the government to continue efforts to develop a nuclear energy programme . uranium enrichment can be used both for nuclear power and to make atomic bombs .\n",
      "Actual: 0\n",
      "Predicted: 0\n",
      "\n",
      "\n",
      "Text: music firms reach out to creator of napster los angeles as a teenager , shawn fanning brought free music to the masses , creating the napster file-swapping program and unleashing a technological that granted the wishes of fans seeking virtually any song at any time - .\n",
      "Actual: 3\n",
      "Predicted: 3\n",
      "\n",
      "\n",
      "Text: marlins streak by mets a four-day layoff fails to cool off the marlins , who extend their winning streak to eight games by beating the mets , 7-3 .\n",
      "Actual: 3\n",
      "Predicted: 3\n",
      "\n",
      "\n",
      "Text: chip giant umc reports higher profits ( ap ) ap - united microelectronics corp . #151 the world ' s no . 2 producer of made-to-order chips #151 on wednesday reported that its third-quarter net profit more than doubled on year as shipments of chips for mobile phones and other\n",
      "Actual: 3\n",
      "Predicted: 3\n",
      "\n",
      "\n",
      "Text: new google scholar search service aimed at academics google inc . on thursday formally launched a new search service aimed at scientists and academic researchers . google scholar is a free beta service that allows users to search for scholarly literature\n",
      "Actual: 3\n",
      "Predicted: 3\n",
      "\n",
      "\n"
     ]
    },
    {
     "data": {
      "image/png": "[encoded data removed]",
      "text/plain": [
       "<Figure size 800x600 with 2 Axes>"
      ]
     },
     "metadata": {},
     "output_type": "display_data"
    }
   ],
   "source": [
    "sample_text(lstm_model, test_loader)\n",
    "plot_confusion_matrix(lstm_model, test_loader)"
   ]
  },
  {
   "cell_type": "markdown",
   "metadata": {},
   "source": [
    "While both GRU and LSTM models achieved similar accuracy levels (around 90%), the RNN model performed significantly worse. This highlights the importance of memory mechanisms in models, particularly when training on sequential data, where capturing long-term dependencies is important for optimal performance."
   ]
  }
 ],
 "metadata": {
  "colab": {
   "provenance": []
  },
  "kernelspec": {
   "display_name": ".venv",
   "language": "python",
   "name": "python3"
  },
  "language_info": {
   "codemirror_mode": {
    "name": "ipython",
    "version": 3
   },
   "file_extension": ".py",
   "mimetype": "text/x-python",
   "name": "python",
   "nbconvert_exporter": "python",
   "pygments_lexer": "ipython3",
   "version": "3.9.6"
  },
  "varInspector": {
   "cols": {
    "lenName": 16,
    "lenType": 16,
    "lenVar": 40
   },
   "kernels_config": {
    "python": {
     "delete_cmd_postfix": "",
     "delete_cmd_prefix": "del ",
     "library": "var_list.py",
     "varRefreshCmd": "print(var_dic_list())"
    },
    "r": {
     "delete_cmd_postfix": ") ",
     "delete_cmd_prefix": "rm(",
     "library": "var_list.r",
     "varRefreshCmd": "cat(var_dic_list()) "
    }
   },
   "types_to_exclude": [
    "module",
    "function",
    "builtin_function_or_method",
    "instance",
    "_Feature"
   ],
   "window_display": false
  }
 },
 "nbformat": 4,
 "nbformat_minor": 5
}
